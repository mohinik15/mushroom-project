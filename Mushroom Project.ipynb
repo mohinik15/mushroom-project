{
 "cells": [
  {
   "cell_type": "code",
   "execution_count": null,
   "id": "3e4025b7",
   "metadata": {},
   "outputs": [],
   "source": [
    "#mushroom <- read.csv(url(\"https://archive.ics.uci.edu/ml/machine-learning-database/mushroom/agaricus-lepiota.data\") ,\n",
    "header = FALSE)\n",
    "head.matrix(x = Mushroom, 6L)"
   ]
  },
  {
   "cell_type": "code",
   "execution_count": null,
   "id": "d87cf629",
   "metadata": {},
   "outputs": [],
   "source": [
    "class(Mushroom)\n",
    "\n",
    "## [1] \"data.frame\""
   ]
  },
  {
   "cell_type": "code",
   "execution_count": null,
   "id": "39144242",
   "metadata": {},
   "outputs": [],
   "source": [
    "dim(Mushrooms)\n",
    "\n",
    "## [1] 8124   23"
   ]
  },
  {
   "cell_type": "code",
   "execution_count": null,
   "id": "b565027c",
   "metadata": {},
   "outputs": [],
   "source": [
    "Mushrooms1 <- Mushrooms[ ,c(1,6,14,21,22,23)]\n",
    "head.matrix(x = Mushrooms1 , 6L)"
   ]
  },
  {
   "cell_type": "code",
   "execution_count": null,
   "id": "d907632a",
   "metadata": {},
   "outputs": [],
   "source": [
    "names(Mushrooms1) = c(\"classification\" , \"odor\" , \"stalk-sbr\" , \"spore-pr-c\" , \"population\" , \"habitat\")\n",
    "names(Mushrooms1)"
   ]
  },
  {
   "cell_type": "code",
   "execution_count": null,
   "id": "11670b48",
   "metadata": {},
   "outputs": [],
   "source": [
    "edible_mushrooms <- Mushrooms1\n",
    "edible_mushrooms = subset(Mushrooms1 , classification == \"e\")\n",
    "head.matrix(x = edible_mushrooms, 6L)"
   ]
  },
  {
   "cell_type": "code",
   "execution_count": null,
   "id": "1ebb114c",
   "metadata": {},
   "outputs": [],
   "source": [
    "poisonous_mushrooms <- Mushrooms1\n",
    "poisonous_mushrooms = subset(Mushrooms1, classification == \"p\")\n",
    "head.matrix(x = poisonous_mushrooms, 6L)"
   ]
  },
  {
   "cell_type": "code",
   "execution_count": null,
   "id": "785c6fc7",
   "metadata": {},
   "outputs": [],
   "source": [
    "edible_mushrooms$classification <- ifelse(edible_mushrooms$classification== 'e', 'edible', edible_mushrooms$classification)\n",
    "head.matrix(x = edible_mushrooms, 3L)"
   ]
  },
  {
   "cell_type": "code",
   "execution_count": null,
   "id": "dc7d8879",
   "metadata": {},
   "outputs": [],
   "source": [
    "count = table(Mushrooms1$classification)\n",
    "t = as.data.frame(count)\n",
    "names(t)[1] = 'classification'\n",
    "t"
   ]
  },
  {
   "cell_type": "code",
   "execution_count": null,
   "id": "7ab6a5e7",
   "metadata": {},
   "outputs": [],
   "source": [
    "count = table(Mushrooms1$classification, Mushrooms1$habitat)\n",
    "t = as.data.frame(count)\n",
    "names(t)[t] = 'classification'\n",
    "names(t)[t] = 'habitat'\n",
    "t"
   ]
  },
  {
   "cell_type": "code",
   "execution_count": null,
   "id": "4b8ab5aa",
   "metadata": {},
   "outputs": [],
   "source": [
    "count1 = table(Mushrooms1$classification, Mushrooms1$odor)\n",
    "t = as.data.frame(count1)\n",
    "names(t)[1] = 'classification'\n",
    "names(t)[2] = 'odor'\n",
    "t"
   ]
  },
  {
   "cell_type": "code",
   "execution_count": null,
   "id": "9cf2824b",
   "metadata": {},
   "outputs": [],
   "source": [
    "import numpy as np\n",
    "import pandas as pd\n",
    "import matplotlib.pyplot as plt\n",
    "import seaborn as sns\n",
    "import sklearn\n",
    "from sklearn.linear_model import logisticRegression\n",
    "from sklearn.metrics import mean_squared_error\n",
    "from sklearn.model_selection import train_test_split\n",
    "from sklearn.naive_bayes import GaussianNB\n",
    "from sklearn.svm import SVC\n",
    "from sklearn.tree import DecisionTreeClassifier\n",
    "from sklearn.neighbors import KNeighborsclassifier\n",
    "from sklearn.metric import accuracy_score,confusion_matrix,classification\n",
    "import warnings\n",
    "warnings.filterwarnings('ignore')"
   ]
  },
  {
   "cell_type": "code",
   "execution_count": null,
   "id": "080c7522",
   "metadata": {},
   "outputs": [],
   "source": [
    "df=pd.read_csv('mushrooms.CSV')\n",
    "df.head()"
   ]
  },
  {
   "cell_type": "code",
   "execution_count": null,
   "id": "081450e5",
   "metadata": {},
   "outputs": [],
   "source": [
    "df .shape"
   ]
  },
  {
   "cell_type": "code",
   "execution_count": null,
   "id": "3bf8e609",
   "metadata": {},
   "outputs": [],
   "source": [
    "df .isnull().sum()"
   ]
  },
  {
   "cell_type": "code",
   "execution_count": null,
   "id": "5e2c4235",
   "metadata": {},
   "outputs": [],
   "source": [
    "df .dtypes"
   ]
  },
  {
   "cell_type": "code",
   "execution_count": null,
   "id": "45ece577",
   "metadata": {},
   "outputs": [],
   "source": [
    "sns .heatmap(df .isnull())"
   ]
  },
  {
   "cell_type": "code",
   "execution_count": null,
   "id": "dd6d0d47",
   "metadata": {},
   "outputs": [],
   "source": [
    "#first we have to changfe all the object type into integer type:\n",
    "#so we will use Label encoder\n",
    "#first we will divide into training and testing dataset"
   ]
  },
  {
   "cell_type": "code",
   "execution_count": null,
   "id": "3a5147b1",
   "metadata": {},
   "outputs": [],
   "source": [
    "x=df.drop('class',axis=1) #predictors\n",
    "y=df['class'] #target\n",
    "x.head()"
   ]
  },
  {
   "cell_type": "code",
   "execution_count": null,
   "id": "4e25e650",
   "metadata": {},
   "outputs": [],
   "source": [
    "y.head()"
   ]
  },
  {
   "cell_type": "code",
   "execution_count": null,
   "id": "396923cc",
   "metadata": {},
   "outputs": [],
   "source": [
    "from sklearn.preprocessing import LabelEncoder\n",
    "Encoder_X = LabelEncoder()\n",
    "for col in x.columns:\n",
    "    x[col] = Encoder_X.fit_tranform(x[col])\n",
    "Encoder_y=LabelEncoder()\n",
    "y = Encoder_y.fit_transform(y)"
   ]
  },
  {
   "cell_type": "code",
   "execution_count": null,
   "id": "c9dbef07",
   "metadata": {},
   "outputs": [],
   "source": [
    "x.head()"
   ]
  },
  {
   "cell_type": "code",
   "execution_count": null,
   "id": "578dec05",
   "metadata": {},
   "outputs": [],
   "source": [
    "y"
   ]
  },
  {
   "cell_type": "code",
   "execution_count": null,
   "id": "878d7739",
   "metadata": {},
   "outputs": [],
   "source": [
    "df.describe"
   ]
  },
  {
   "cell_type": "code",
   "execution_count": null,
   "id": "86e45af2",
   "metadata": {},
   "outputs": [],
   "source": [
    "from sklearn.preprocessing import LabelEncoder\n",
    "\n",
    "df_encoded = df.copy()\n",
    "le = LabelEncoder()\n",
    "for col in df_encoded.columns:\n",
    "    df_encoded[col] = le.fit_transform(df_encoded[col])\n",
    "    \n",
    "df_encoded.head()    "
   ]
  },
  {
   "cell_type": "code",
   "execution_count": null,
   "id": "35ae4436",
   "metadata": {},
   "outputs": [],
   "source": [
    "df_encoded.describe()"
   ]
  },
  {
   "cell_type": "code",
   "execution_count": null,
   "id": "090cecda",
   "metadata": {},
   "outputs": [],
   "source": [
    "#here poisonous=1\n",
    "#and eatable=0"
   ]
  },
  {
   "cell_type": "code",
   "execution_count": null,
   "id": "c4d10508",
   "metadata": {},
   "outputs": [],
   "source": [
    "df['odor'].value_counts()"
   ]
  },
  {
   "cell_type": "code",
   "execution_count": null,
   "id": "5cec6d6c",
   "metadata": {},
   "outputs": [],
   "source": [
    "df['class'].value_counts()"
   ]
  },
  {
   "cell_type": "code",
   "execution_count": null,
   "id": "8b7c58fd",
   "metadata": {},
   "outputs": [],
   "source": [
    "#here [e] is no-eatables and [p] are eatables"
   ]
  },
  {
   "cell_type": "code",
   "execution_count": null,
   "id": "a88ed626",
   "metadata": {},
   "outputs": [],
   "source": [
    "df.columns"
   ]
  },
  {
   "cell_type": "code",
   "execution_count": null,
   "id": "e83d9fa8",
   "metadata": {},
   "outputs": [],
   "source": [
    "import matplotlibs.pylab as pylab"
   ]
  },
  {
   "cell_type": "code",
   "execution_count": null,
   "id": "fca6a050",
   "metadata": {},
   "outputs": [],
   "source": [
    "params = {'legend.frontsize': 'x-large',\n",
    "         'axes.labelsize': 'x-large',\n",
    "         'axes.titlesize': 'x-large',\n",
    "         'xtick.labelsize':'x-large',\n",
    "         'ytick.labelsize':'x-large'}\n",
    "pylab.rcParams.update(params)"
   ]
  },
  {
   "cell_type": "code",
   "execution_count": null,
   "id": "1028aa1b",
   "metadata": {},
   "outputs": [],
   "source": [
    "def plot_col(col, hue=None, color=['red', 'lightgreen'], labels=None):\n",
    "Fig, ax = plt.subplots(figsize=(15, 7))\n",
    "sns.countplot(col, hye=hue, palette=color, saturation=0.6, data=df,\n",
    "ax.set(title = f\"Mushroom {col.title()} Quantity\", xlabel=f\"{col.title}))\n",
    "if labels!=None:\n",
    "     ax.set_xticklabels(labels)\n",
    "if hue!=None:\n",
    "     ax.legend(('Poisonous', 'Edible'), loc=0)  "
   ]
  },
  {
   "cell_type": "code",
   "execution_count": null,
   "id": "42fc0187",
   "metadata": {},
   "outputs": [],
   "source": [
    "class_dict = ('Poisonous', 'Edible')\n",
    "plot_col(col='class', labels=class_dict)"
   ]
  },
  {
   "cell_type": "code",
   "execution_count": null,
   "id": "8e3f3ec7",
   "metadata": {},
   "outputs": [],
   "source": [
    "shape_dict = {\"bell\":\"b\",\"conical\":\"c\",\"convex\":\"x\",\"flat\":\"f\", \"knobbed\"}\n",
    "label = ('convex', 'bell', 'sunken', 'flat', 'knobbed', 'conical')\n",
    "plot_col(col='cap-shape', hue='class', labels=labels)"
   ]
  },
  {
   "cell_type": "code",
   "execution_count": null,
   "id": "24b594cd",
   "metadata": {},
   "outputs": [],
   "source": [
    "color_dict = {\"brown\":\"n\",\"yellow\":\"y\", \"blue\":\"w\", \"gray\":\"g\", \"red\":\"r\", \"orange\":\"b\", \"purple\":\"u\", \"black\":\"c\", \"green\":\"r\"}\n",
    "plot_col(col='cap-color', color=color_dict.Keys(), labels=color_dict)"
   ]
  },
  {
   "cell_type": "code",
   "execution_count": null,
   "id": "53c1f4b8",
   "metadata": {},
   "outputs": [],
   "source": [
    "plot_col(col='cap-color', hue='class', labels=color_dict)"
   ]
  },
  {
   "cell_type": "code",
   "execution_count": null,
   "id": "72775612",
   "metadata": {},
   "outputs": [],
   "source": [
    "surface_dict = {\"smooth\":\"s\", \"scaly\":\"y\", \"fibrous\":\"f\", \"grooves\":\"g\"}\n",
    "plot_col(col='cap-surface', hue='class', label=surface_dict)"
   ]
  },
  {
   "cell_type": "code",
   "execution_count": null,
   "id": "eaca2ac6",
   "metadata": {},
   "outputs": [],
   "source": [
    "def get_labels(order , a_dict):\n",
    "    labels = []\n",
    "    for values in order:\n",
    "        if values == value:\n",
    "            labels.append(key)\n",
    "    return labels        "
   ]
  },
  {
   "cell_type": "code",
   "execution_count": null,
   "id": "ce14e1f1",
   "metadata": {},
   "outputs": [],
   "source": [
    "odor_dict = {\"almond\":\"a\",\"anise\":\"l\",\"creosote\":\"c\",\"fishy\":\"y\",\"foul\":\"f\",\"musty\":\"m\",\"none\":\"n\",\"pungent\":\"p\",\"spicy\":\"s\"}\n",
    "order =['p' , 'a' , 'l' , 'n' , 'f' , 'c' , 'y' , 's' , 'm']\n",
    "labels = get_labels(order, odor_dict)\n",
    "plot_col(col='odor', color=color_dict.keys(), labels=labels)"
   ]
  }
 ],
 "metadata": {
  "kernelspec": {
   "display_name": "Python 3 (ipykernel)",
   "language": "python",
   "name": "python3"
  },
  "language_info": {
   "codemirror_mode": {
    "name": "ipython",
    "version": 3
   },
   "file_extension": ".py",
   "mimetype": "text/x-python",
   "name": "python",
   "nbconvert_exporter": "python",
   "pygments_lexer": "ipython3",
   "version": "3.9.7"
  }
 },
 "nbformat": 4,
 "nbformat_minor": 5
}
